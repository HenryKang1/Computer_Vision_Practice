{
  "nbformat": 4,
  "nbformat_minor": 0,
  "metadata": {
    "colab": {
      "name": "Adabins.ipynb",
      "provenance": [],
      "collapsed_sections": []
    },
    "kernelspec": {
      "name": "python3",
      "display_name": "Python 3"
    },
    "accelerator": "GPU"
  },
  "cells": [
    {
      "cell_type": "code",
      "metadata": {
        "colab": {
          "base_uri": "https://localhost:8080/"
        },
        "id": "mxxiFOvPQIr8",
        "outputId": "6906cd6a-5d79-4000-a9ed-7492551fa71f"
      },
      "source": [
        "!git clone https://github.com/shariqfarooq123/AdaBins"
      ],
      "execution_count": null,
      "outputs": [
        {
          "output_type": "stream",
          "text": [
            "Cloning into 'AdaBins'...\n",
            "remote: Enumerating objects: 70, done.\u001b[K\n",
            "remote: Total 70 (delta 0), reused 0 (delta 0), pack-reused 70\u001b[K\n",
            "Unpacking objects: 100% (70/70), done.\n"
          ],
          "name": "stdout"
        }
      ]
    },
    {
      "cell_type": "code",
      "metadata": {
        "id": "hfTmRDcqQLQr"
      },
      "source": [
        "!mkdir ./AdaBins/pretrained"
      ],
      "execution_count": null,
      "outputs": []
    },
    {
      "cell_type": "code",
      "metadata": {
        "colab": {
          "base_uri": "https://localhost:8080/"
        },
        "id": "iPzrIwCSQvcM",
        "outputId": "2e43bf6e-b364-4416-d154-76e432ffce64"
      },
      "source": [
        "!pip install gdown\n"
      ],
      "execution_count": null,
      "outputs": [
        {
          "output_type": "stream",
          "text": [
            "Requirement already satisfied: gdown in /usr/local/lib/python3.7/dist-packages (3.6.4)\n",
            "Requirement already satisfied: requests in /usr/local/lib/python3.7/dist-packages (from gdown) (2.23.0)\n",
            "Requirement already satisfied: tqdm in /usr/local/lib/python3.7/dist-packages (from gdown) (4.41.1)\n",
            "Requirement already satisfied: six in /usr/local/lib/python3.7/dist-packages (from gdown) (1.15.0)\n",
            "Requirement already satisfied: idna<3,>=2.5 in /usr/local/lib/python3.7/dist-packages (from requests->gdown) (2.10)\n",
            "Requirement already satisfied: urllib3!=1.25.0,!=1.25.1,<1.26,>=1.21.1 in /usr/local/lib/python3.7/dist-packages (from requests->gdown) (1.24.3)\n",
            "Requirement already satisfied: certifi>=2017.4.17 in /usr/local/lib/python3.7/dist-packages (from requests->gdown) (2020.12.5)\n",
            "Requirement already satisfied: chardet<4,>=3.0.2 in /usr/local/lib/python3.7/dist-packages (from requests->gdown) (3.0.4)\n"
          ],
          "name": "stdout"
        }
      ]
    },
    {
      "cell_type": "code",
      "metadata": {
        "colab": {
          "base_uri": "https://localhost:8080/"
        },
        "id": "86vahknBQbY6",
        "outputId": "12750e93-c49c-47bc-b1ee-974df4076d2e"
      },
      "source": [
        "!gdown --id 1NvjGQE9YjStIHG06aBsnLpPJYVnv-TMb --output AdaBins_nyu.pt"
      ],
      "execution_count": null,
      "outputs": [
        {
          "output_type": "stream",
          "text": [
            "Downloading...\n",
            "From: https://drive.google.com/uc?id=1NvjGQE9YjStIHG06aBsnLpPJYVnv-TMb\n",
            "To: /content/AdaBins_nyu.pt\n",
            "941MB [00:18, 51.7MB/s]\n"
          ],
          "name": "stdout"
        }
      ]
    },
    {
      "cell_type": "code",
      "metadata": {
        "id": "6YNTY04-TOF5"
      },
      "source": [
        "!cp AdaBins_nyu.pt AdaBins/pretrained/"
      ],
      "execution_count": null,
      "outputs": []
    },
    {
      "cell_type": "code",
      "metadata": {
        "id": "dtIrThKwUYgx"
      },
      "source": [
        "!cd ./AdaBins"
      ],
      "execution_count": null,
      "outputs": []
    },
    {
      "cell_type": "code",
      "metadata": {
        "colab": {
          "base_uri": "https://localhost:8080/"
        },
        "id": "D5UQXMI7Uis_",
        "outputId": "bbb5b9a6-eb1e-48a9-f23c-e97cbaa3eca4"
      },
      "source": [
        "import os\n",
        "path= os.getcwd()\n",
        "print(path)"
      ],
      "execution_count": null,
      "outputs": [
        {
          "output_type": "stream",
          "text": [
            "/content\n"
          ],
          "name": "stdout"
        }
      ]
    },
    {
      "cell_type": "code",
      "metadata": {
        "id": "31ki4BmPU0zT"
      },
      "source": [
        "import glob\n",
        "import os\n",
        "\n",
        "import numpy as np\n",
        "import torch\n",
        "import torch.nn as nn\n",
        "from PIL import Image\n",
        "from torchvision import transforms\n",
        "from tqdm import tqdm\n",
        "\n",
        "from AdaBins import model_io\n",
        "from AdaBins import utils\n",
        "from AdaBins.models import UnetAdaptiveBins"
      ],
      "execution_count": null,
      "outputs": []
    },
    {
      "cell_type": "code",
      "metadata": {
        "id": "KrFfUoZdT5G_"
      },
      "source": [
        "\n",
        "\n",
        "\n",
        "def _is_pil_image(img):\n",
        "    return isinstance(img, Image.Image)\n",
        "\n",
        "\n",
        "def _is_numpy_image(img):\n",
        "    return isinstance(img, np.ndarray) and (img.ndim in {2, 3})\n",
        "\n",
        "\n",
        "class ToTensor(object):\n",
        "    def __init__(self):\n",
        "        self.normalize = transforms.Normalize(mean=[0.485, 0.456, 0.406], std=[0.229, 0.224, 0.225])\n",
        "\n",
        "    def __call__(self, image, target_size=(640, 480)):\n",
        "        # image = image.resize(target_size)\n",
        "        image = self.to_tensor(image)\n",
        "        image = self.normalize(image)\n",
        "        return image\n",
        "\n",
        "    def to_tensor(self, pic):\n",
        "        if not (_is_pil_image(pic) or _is_numpy_image(pic)):\n",
        "            raise TypeError(\n",
        "                'pic should be PIL Image or ndarray. Got {}'.format(type(pic)))\n",
        "\n",
        "        if isinstance(pic, np.ndarray):\n",
        "            img = torch.from_numpy(pic.transpose((2, 0, 1)))\n",
        "            return img\n",
        "\n",
        "        # handle PIL Image\n",
        "        if pic.mode == 'I':\n",
        "            img = torch.from_numpy(np.array(pic, np.int32, copy=False))\n",
        "        elif pic.mode == 'I;16':\n",
        "            img = torch.from_numpy(np.array(pic, np.int16, copy=False))\n",
        "        else:\n",
        "            img = torch.ByteTensor(torch.ByteStorage.from_buffer(pic.tobytes()))\n",
        "        # PIL image mode: 1, L, P, I, F, RGB, YCbCr, RGBA, CMYK\n",
        "        if pic.mode == 'YCbCr':\n",
        "            nchannel = 3\n",
        "        elif pic.mode == 'I;16':\n",
        "            nchannel = 1\n",
        "        else:\n",
        "            nchannel = len(pic.mode)\n",
        "        img = img.view(pic.size[1], pic.size[0], nchannel)\n",
        "\n",
        "        img = img.transpose(0, 1).transpose(0, 2).contiguous()\n",
        "        if isinstance(img, torch.ByteTensor):\n",
        "            return img.float()\n",
        "        else:\n",
        "            return img\n",
        "\n",
        "\n",
        "class InferenceHelper:\n",
        "    def __init__(self, dataset='nyu', device='cuda:0'):\n",
        "        self.toTensor = ToTensor()\n",
        "        self.device = device\n",
        "        if dataset == 'nyu':\n",
        "            self.min_depth = 1e-3\n",
        "            self.max_depth = 10\n",
        "            self.saving_factor = 1000  # used to save in 16 bit\n",
        "            model = UnetAdaptiveBins.build(n_bins=256, min_val=self.min_depth, max_val=self.max_depth)\n",
        "            pretrained_path = \"./AdaBins/pretrained/AdaBins_nyu.pt\"\n",
        "        elif dataset == 'kitti':\n",
        "            self.min_depth = 1e-3\n",
        "            self.max_depth = 80\n",
        "            self.saving_factor = 256\n",
        "            model = UnetAdaptiveBins.build(n_bins=256, min_val=self.min_depth, max_val=self.max_depth)\n",
        "            pretrained_path = \"./pretrained/AdaBins_kitti.pt\"\n",
        "        else:\n",
        "            raise ValueError(\"dataset can be either 'nyu' or 'kitti' but got {}\".format(dataset))\n",
        "\n",
        "        model, _, _ = model_io.load_checkpoint(pretrained_path, model)\n",
        "        model.eval()\n",
        "        self.model = model.to(self.device)\n",
        "\n",
        "    @torch.no_grad()\n",
        "    def predict_pil(self, pil_image, visualized=False):\n",
        "        # pil_image = pil_image.resize((640, 480))\n",
        "        img = np.asarray(pil_image) / 255.\n",
        "\n",
        "        img = self.toTensor(img).unsqueeze(0).float().to(self.device)\n",
        "        bin_centers, pred = self.predict(img)\n",
        "\n",
        "        if visualized:\n",
        "            viz = utils.colorize(torch.from_numpy(pred).unsqueeze(0), vmin=None, vmax=None, cmap='magma')\n",
        "            # pred = np.asarray(pred*1000, dtype='uint16')\n",
        "            viz = Image.fromarray(viz)\n",
        "            return bin_centers, pred, viz\n",
        "        return bin_centers, pred\n",
        "\n",
        "    @torch.no_grad()\n",
        "    def predict(self, image):\n",
        "        bins, pred = self.model(image)\n",
        "        pred = np.clip(pred.cpu().numpy(), self.min_depth, self.max_depth)\n",
        "\n",
        "        # Flip\n",
        "        image = torch.Tensor(np.array(image.cpu().numpy())[..., ::-1].copy()).to(self.device)\n",
        "        pred_lr = self.model(image)[-1]\n",
        "        pred_lr = np.clip(pred_lr.cpu().numpy()[..., ::-1], self.min_depth, self.max_depth)\n",
        "\n",
        "        # Take average of original and mirror\n",
        "        final = 0.5 * (pred + pred_lr)\n",
        "        final = nn.functional.interpolate(torch.Tensor(final), image.shape[-2:],\n",
        "                                          mode='bilinear', align_corners=True).cpu().numpy()\n",
        "\n",
        "        final[final < self.min_depth] = self.min_depth\n",
        "        final[final > self.max_depth] = self.max_depth\n",
        "        final[np.isinf(final)] = self.max_depth\n",
        "        final[np.isnan(final)] = self.min_depth\n",
        "\n",
        "        centers = 0.5 * (bins[:, 1:] + bins[:, :-1])\n",
        "        centers = centers.cpu().squeeze().numpy()\n",
        "        centers = centers[centers > self.min_depth]\n",
        "        centers = centers[centers < self.max_depth]\n",
        "\n",
        "        return centers, final\n",
        "\n",
        "    @torch.no_grad()\n",
        "    def predict_dir(self, test_dir, out_dir):\n",
        "        os.makedirs(out_dir, exist_ok=True)\n",
        "        transform = ToTensor()\n",
        "        all_files = glob.glob(os.path.join(test_dir, \"*\"))\n",
        "        self.model.eval()\n",
        "        for f in tqdm(all_files):\n",
        "            image = np.asarray(Image.open(f), dtype='float32') / 255.\n",
        "            image = transform(image).unsqueeze(0).to(self.device)\n",
        "\n",
        "            centers, final = self.predict(image)\n",
        "            # final = final.squeeze().cpu().numpy()\n",
        "\n",
        "            final = (final * self.saving_factor).astype('uint16')\n",
        "            basename = os.path.basename(f).split('.')[0]\n",
        "            save_path = os.path.join(out_dir, basename + \".png\")\n",
        "\n",
        "            Image.fromarray(final).save(save_path)\n",
        "\n",
        "\n",
        "\n"
      ],
      "execution_count": null,
      "outputs": []
    },
    {
      "cell_type": "code",
      "metadata": {
        "colab": {
          "base_uri": "https://localhost:8080/",
          "height": 332
        },
        "id": "OqkQ1VM1Uzzj",
        "outputId": "3013da1b-d51d-42c7-9cce-941b6f58de76"
      },
      "source": [
        "if __name__ == '__main__':\n",
        "    import matplotlib.pyplot as plt\n",
        "    from time import time\n",
        "    import os\n",
        "\n",
        "    path=os.getcwd()\n",
        "    test_path=path+\"//AdaBins//test_imgs//\"\n",
        "    img_l=os.listdir(test_path)\n",
        "    for i in img_l:\n",
        "\n",
        "        img = Image.open(test_path+i)\n",
        "        start = time()\n",
        "        inferHelper = InferenceHelper()\n",
        "        centers, pred = inferHelper.predict_pil(img)\n",
        "        print(f\"took :{time() - start}s\")\n",
        "        plt.imshow(pred.squeeze(), cmap='magma_r')\n",
        "        plt.axis('off')\n",
        "        plt.imshow\n",
        "        #ipath=path+\"/deep/\"+i\n",
        "        #plt.savefig(ipath,bbox_inches=\"tight\")\n"
      ],
      "execution_count": null,
      "outputs": [
        {
          "output_type": "stream",
          "text": [
            "Loading base model ()..."
          ],
          "name": "stdout"
        },
        {
          "output_type": "stream",
          "text": [
            "Using cache found in /root/.cache/torch/hub/rwightman_gen-efficientnet-pytorch_master\n"
          ],
          "name": "stderr"
        },
        {
          "output_type": "stream",
          "text": [
            "Done.\n",
            "Removing last two layers (global_pool & classifier).\n",
            "Building Encoder-Decoder model..Done.\n",
            "took :2.6354541778564453s\n"
          ],
          "name": "stdout"
        },
        {
          "output_type": "display_data",
          "data": {
            "image/png": "[encoded data removed]",
            "text/plain": [
              "<Figure size 432x288 with 1 Axes>"
            ]
          },
          "metadata": {
            "tags": [],
            "needs_background": "light"
          }
        }
      ]
    }
  ]
}